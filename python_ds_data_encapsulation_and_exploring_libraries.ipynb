{
  "nbformat": 4,
  "nbformat_minor": 0,
  "metadata": {
    "colab": {
      "provenance": [],
      "toc_visible": true
    },
    "kernelspec": {
      "name": "python3",
      "display_name": "Python 3"
    },
    "language_info": {
      "name": "python"
    }
  },
  "cells": [
    {
      "cell_type": "markdown",
      "metadata": {
        "id": "header"
      },
      "source": [
        "# Exploring Python Libraries & Data Encapsulation\n",
        "## Data Science Class - Interactive Notebook\n",
        "## www.learnandhelp.com\n",
        "\n",
        "---\n",
        "\n",
        "**Welcome to Python Libraries!**\n",
        "\n",
        "Today you'll learn:\n",
        "1. What libraries are and why they're useful\n",
        "2. How to import and explore libraries\n",
        "3. How to use library functions without knowing how they work inside\n",
        "4. Understanding data types that libraries return\n",
        "\n",
        "**Think of libraries like apps on your phone** - you use them without knowing how they were programmed!"
      ]
    },
    {
      "cell_type": "markdown",
      "metadata": {
        "id": "part1"
      },
      "source": [
        "---\n",
        "## Part 1: What is a Library?\n",
        "\n",
        "A **library** is a collection of pre-written code that does useful things.\n",
        "\n",
        "Instead of writing everything from scratch, you can:\n",
        "- Import a library\n",
        "- Use its functions\n",
        "- Get your work done faster!\n",
        "\n",
        "**Example:** Instead of writing code to calculate square root, use the math library!"
      ]
    },
    {
      "cell_type": "markdown",
      "metadata": {
        "id": "lesson1"
      },
      "source": [
        "---\n",
        "## Lesson 1: How to Import Libraries\n",
        "\n",
        "There are **3 main ways** to import libraries in Python:"
      ]
    },
    {
      "cell_type": "code",
      "execution_count": null,
      "metadata": {
        "id": "import_demo"
      },
      "outputs": [],
      "source": [
        "# Method 1: Import the entire library\n",
        "import math\n",
        "\n",
        "# Now you can use math functions\n",
        "result = math.sqrt(16)\n",
        "print(f\"Square root of 16 is: {result}\")"
      ]
    },
    {
      "cell_type": "code",
      "execution_count": null,
      "metadata": {
        "id": "import_specific"
      },
      "outputs": [],
      "source": [
        "# Method 2: Import specific functions\n",
        "from random import randint\n",
        "\n",
        "# Now you can use randint directly (no need to write random.randint)\n",
        "dice_roll = randint(1, 6)\n",
        "print(f\"You rolled a: {dice_roll}\")"
      ]
    },
    {
      "cell_type": "code",
      "execution_count": null,
      "metadata": {
        "id": "import_alias"
      },
      "outputs": [],
      "source": [
        "# Method 3: Import with a nickname (alias)\n",
        "import datetime as dt\n",
        "\n",
        "# Now use 'dt' instead of typing 'datetime' every time\n",
        "today = dt.date.today()\n",
        "print(f\"Today's date is: {today}\")"
      ]
    },
    {
      "cell_type": "markdown",
      "metadata": {
        "id": "try1"
      },
      "source": [
        "---\n",
        "### ✏️ TRY IT YOURSELF #1\n",
        "\n",
        "**Task:** Import the `statistics` library and find the average of test scores.\n",
        "\n",
        "**Steps:**\n",
        "1. Import the statistics library\n",
        "2. Use `statistics.mean()` to calculate the average of the test_scores list\n",
        "3. Print the result"
      ]
    },
    {
      "cell_type": "code",
      "execution_count": null,
      "metadata": {
        "id": "exercise1"
      },
      "outputs": [],
      "source": [
        "# TODO: Import the 'statistics' library below\n",
        "\n",
        "\n",
        "# TODO: Use statistics.mean() to find the average of these test scores\n",
        "test_scores = [85, 92, 78, 95, 88, 91]\n",
        "\n",
        "# Your code here:\n"
      ]
    },
    {
      "cell_type": "markdown",
      "metadata": {
        "id": "lesson2"
      },
      "source": [
        "---\n",
        "## Lesson 2: What Can This Library Do?\n",
        "\n",
        "The `dir()` function shows you everything inside a library!\n",
        "\n",
        "It's like looking at the **table of contents** of a book."
      ]
    },
    {
      "cell_type": "code",
      "execution_count": null,
      "metadata": {
        "id": "dir_demo"
      },
      "outputs": [],
      "source": [
        "import math\n",
        "\n",
        "# See everything in the math library\n",
        "print(\"Things inside the math library:\")\n",
        "print(dir(math))"
      ]
    },
    {
      "cell_type": "code",
      "execution_count": null,
      "metadata": {
        "id": "dir_filtered"
      },
      "outputs": [],
      "source": [
        "# That's a lot! Let's filter out the private stuff (starts with _)\n",
        "print(\"Useful functions in math library:\")\n",
        "useful_functions = [item for item in dir(math) if not item.startswith('_')]\n",
        "print(useful_functions)"
      ]
    },
    {
      "cell_type": "markdown",
      "metadata": {
        "id": "lesson3"
      },
      "source": [
        "---\n",
        "## Lesson 3: How to Learn What Functions Do\n",
        "\n",
        "**Three ways** to learn about a function:\n",
        "1. `help()` function\n",
        "2. Docstring (triple quotes)\n",
        "3. Online documentation"
      ]
    },
    {
      "cell_type": "code",
      "execution_count": null,
      "metadata": {
        "id": "help_demo"
      },
      "outputs": [],
      "source": [
        "# Method 1: The help() function\n",
        "print(\"Method 1: Using help()\")\n",
        "print(\"-\" * 40)\n",
        "help(math.factorial)"
      ]
    },
    {
      "cell_type": "code",
      "execution_count": null,
      "metadata": {
        "id": "docstring_demo"
      },
      "outputs": [],
      "source": [
        "# Method 2: Check the docstring\n",
        "print(\"Method 2: Using __doc__\")\n",
        "print(\"-\" * 40)\n",
        "print(math.factorial.__doc__)"
      ]
    },
    {
      "cell_type": "code",
      "execution_count": null,
      "metadata": {
        "id": "experiment_demo"
      },
      "outputs": [],
      "source": [
        "# Method 3: Just try it with simple examples!\n",
        "print(\"Method 3: Experiment!\")\n",
        "print(\"-\" * 40)\n",
        "print(f\"factorial(5) = {math.factorial(5)}\")\n",
        "print(f\"factorial(3) = {math.factorial(3)}\")"
      ]
    },
    {
      "cell_type": "markdown",
      "metadata": {
        "id": "try2"
      },
      "source": [
        "---\n",
        "### ✏️ TRY IT YOURSELF #2\n",
        "\n",
        "**Task:** Explore the `random` library and pick a random snack!\n",
        "\n",
        "**Steps:**\n",
        "1. Import the random library\n",
        "2. Use `dir(random)` to see what's inside\n",
        "3. Use `help(random.choice)` to learn about the choice function\n",
        "4. Use `random.choice()` to pick a random snack from the list"
      ]
    },
    {
      "cell_type": "code",
      "execution_count": null,
      "metadata": {
        "id": "exercise2"
      },
      "outputs": [],
      "source": [
        "import random\n",
        "\n",
        "# TODO: Use dir() to see what's inside the random library\n",
        "# Your code here:\n",
        "\n",
        "\n",
        "# TODO: Use help() to learn about random.choice()\n",
        "# Your code here:\n",
        "\n",
        "\n",
        "# TODO: Use random.choice() to pick a random snack from this list\n",
        "snacks = [\"apple\", \"chips\", \"cookies\", \"granola bar\", \"candy\"]\n",
        "# Your code here:\n"
      ]
    },
    {
      "cell_type": "markdown",
      "metadata": {
        "id": "lesson4"
      },
      "source": [
        "---\n",
        "## Lesson 4: What Type of Data Does This Give Me?\n",
        "\n",
        "The `type()` function tells you what kind of data something is.\n",
        "\n",
        "This is important because **different types can do different things!**"
      ]
    },
    {
      "cell_type": "code",
      "execution_count": null,
      "metadata": {
        "id": "type_examples"
      },
      "outputs": [],
      "source": [
        "import datetime\n",
        "import random\n",
        "\n",
        "# Example 1: What does math.sqrt() return?\n",
        "result1 = math.sqrt(25)\n",
        "print(f\"math.sqrt(25) = {result1}\")\n",
        "print(f\"Type: {type(result1)}\")\n",
        "print()\n",
        "\n",
        "# Example 2: What does datetime.date.today() return?\n",
        "result2 = datetime.date.today()\n",
        "print(f\"datetime.date.today() = {result2}\")\n",
        "print(f\"Type: {type(result2)}\")\n",
        "print()\n",
        "\n",
        "# Example 3: What does random.choice() return?\n",
        "result3 = random.choice([1, 2, 3, 4, 5])\n",
        "print(f\"random.choice([1,2,3,4,5]) = {result3}\")\n",
        "print(f\"Type: {type(result3)}\")\n",
        "print()\n",
        "\n",
        "# Example 4: What does dir() return?\n",
        "result4 = dir(math)\n",
        "print(f\"dir(math) = {result4[:5]}... (showing first 5 items)\")\n",
        "print(f\"Type: {type(result4)}\")"
      ]
    },
    {
      "cell_type": "markdown",
      "metadata": {
        "id": "try3"
      },
      "source": [
        "---\n",
        "### ✏️ TRY IT YOURSELF #3\n",
        "\n",
        "**Task:** Use the `statistics` library and check data types.\n",
        "\n",
        "**Steps:**\n",
        "1. Calculate the mean (average) and check its type\n",
        "2. Calculate the median and check its type\n",
        "3. Compare - are they the same type? Why or why not?"
      ]
    },
    {
      "cell_type": "code",
      "execution_count": null,
      "metadata": {
        "id": "exercise3"
      },
      "outputs": [],
      "source": [
        "import statistics\n",
        "\n",
        "numbers = [10, 20, 30, 40, 50]\n",
        "\n",
        "# TODO: Calculate the mean (average) and check its type\n",
        "# Your code here:\n",
        "\n",
        "\n",
        "# TODO: Calculate the median and check its type\n",
        "# Your code here:\n",
        "\n",
        "\n",
        "# TODO: Are they the same type? Why or why not?\n",
        "# Write your answer as a comment:\n",
        "#"
      ]
    },
    {
      "cell_type": "markdown",
      "metadata": {
        "id": "lesson5"
      },
      "source": [
        "---\n",
        "## Lesson 5: Putting It All Together - Dice Game\n",
        "\n",
        "Let's use **multiple libraries** to build a simple dice game!\n",
        "\n",
        "We'll use: `random`, `datetime`, and `statistics`\n",
        "\n",
        "This demonstrates **DATA ENCAPSULATION** - all the game data and functions are packaged together in one class!"
      ]
    },
    {
      "cell_type": "code",
      "execution_count": null,
      "metadata": {
        "id": "dice_game_class"
      },
      "outputs": [],
      "source": [
        "import random\n",
        "import datetime\n",
        "import statistics\n",
        "\n",
        "class DiceGame:\n",
        "    \"\"\"\n",
        "    A simple dice game that tracks your rolls.\n",
        "\n",
        "    This demonstrates DATA ENCAPSULATION - all the game data and\n",
        "    functions are packaged together in one class!\n",
        "    \"\"\"\n",
        "\n",
        "    def __init__(self, player_name):\n",
        "        \"\"\"Set up a new game.\"\"\"\n",
        "        self.player_name = player_name\n",
        "        self.rolls = []\n",
        "        self.start_time = datetime.datetime.now()\n",
        "\n",
        "    def roll_dice(self, num_dice=2):\n",
        "        \"\"\"Roll the dice and record the result.\"\"\"\n",
        "        roll = [random.randint(1, 6) for _ in range(num_dice)]\n",
        "        total = sum(roll)\n",
        "        self.rolls.append(total)\n",
        "\n",
        "        print(f\"{self.player_name} rolled: {roll} = {total}\")\n",
        "        return total\n",
        "\n",
        "    def get_statistics(self):\n",
        "        \"\"\"Show statistics about all rolls.\"\"\"\n",
        "        if not self.rolls:\n",
        "            print(\"No rolls yet!\")\n",
        "            return\n",
        "\n",
        "        print(f\"\\n{self.player_name}'s Game Statistics:\")\n",
        "        print(f\"  Total rolls: {len(self.rolls)}\")\n",
        "        print(f\"  Average: {statistics.mean(self.rolls):.2f}\")\n",
        "        print(f\"  Highest: {max(self.rolls)}\")\n",
        "        print(f\"  Lowest: {min(self.rolls)}\")\n",
        "        print(f\"  All rolls: {self.rolls}\")\n",
        "\n",
        "    def game_duration(self):\n",
        "        \"\"\"How long have we been playing?\"\"\"\n",
        "        duration = datetime.datetime.now() - self.start_time\n",
        "        print(f\"Game duration: {duration.seconds} seconds\")"
      ]
    },
    {
      "cell_type": "code",
      "execution_count": null,
      "metadata": {
        "id": "play_dice_game"
      },
      "outputs": [],
      "source": [
        "# Let's play!\n",
        "game = DiceGame(\"Student\")\n",
        "\n",
        "# Roll the dice a few times\n",
        "game.roll_dice()\n",
        "game.roll_dice()\n",
        "game.roll_dice()\n",
        "game.roll_dice()\n",
        "\n",
        "# Check statistics\n",
        "game.get_statistics()\n",
        "game.game_duration()"
      ]
    },
    {
      "cell_type": "markdown",
      "metadata": {
        "id": "try4"
      },
      "source": [
        "---\n",
        "### ✏️ TRY IT YOURSELF #4 - FINAL CHALLENGE\n",
        "\n",
        "**Challenge:** Create a simple grade calculator!\n",
        "\n",
        "**Requirements:**\n",
        "1. Import the statistics library\n",
        "2. Create a list of at least 5 test scores\n",
        "3. Calculate and print:\n",
        "   - The average (mean)\n",
        "   - The median\n",
        "   - The highest score\n",
        "   - The lowest score\n",
        "4. Use `type()` to verify what each calculation returns\n",
        "5. Print a final grade based on the average:\n",
        "   - 90+: A\n",
        "   - 80-89: B\n",
        "   - 70-79: C\n",
        "   - 60-69: D\n",
        "   - Below 60: F"
      ]
    },
    {
      "cell_type": "code",
      "execution_count": null,
      "metadata": {
        "id": "exercise4"
      },
      "outputs": [],
      "source": [
        "# Your code here:\n",
        "# TODO: Import statistics\n",
        "\n",
        "\n",
        "# TODO: Create a list of test scores\n",
        "\n",
        "\n",
        "# TODO: Calculate statistics\n",
        "\n",
        "\n",
        "# TODO: Determine letter grade\n"
      ]
    },
    {
      "cell_type": "markdown",
      "metadata": {
        "id": "summary"
      },
      "source": [
        "---\n",
        "## Key Takeaways\n",
        "\n",
        "### What You Learned Today:\n",
        "\n",
        "**1. IMPORTING LIBRARIES:**\n",
        "- `import library_name`\n",
        "- `from library_name import specific_function`\n",
        "- `import library_name as nickname`\n",
        "\n",
        "**2. EXPLORING LIBRARIES:**\n",
        "- `dir(library_name)` - see what's inside\n",
        "- `help(function_name)` - learn how to use it\n",
        "- Try simple examples!\n",
        "\n",
        "**3. UNDERSTANDING DATA TYPES:**\n",
        "- `type(variable)` - tells you what kind of data it is\n",
        "- Different types have different capabilities\n",
        "\n",
        "**4. DATA ENCAPSULATION:**\n",
        "- Group related data and functions together\n",
        "- Like the DiceGame class - everything in one package!\n",
        "\n",
        "**5. LEARNING NEW LIBRARIES:**\n",
        "- You don't need to know HOW they work internally\n",
        "- Just need to know WHAT they do and HOW to use them\n",
        "- Like using apps on your phone!\n",
        "\n",
        "### Common Python Libraries to Explore:\n",
        "- `math`: mathematical functions\n",
        "- `random`: random numbers and choices\n",
        "- `datetime`: dates and times\n",
        "- `statistics`: statistical calculations\n",
        "- `json`: working with JSON data\n",
        "- `csv`: reading/writing CSV files\n",
        "- `turtle`: drawing graphics\n",
        "- `pygame`: making games"
      ]
    },
    {
      "cell_type": "markdown",
      "metadata": {
        "id": "bonus"
      },
      "source": [
        "---\n",
        "## Bonus Section - Explore More!"
      ]
    },
    {
      "cell_type": "code",
      "execution_count": null,
      "metadata": {
        "id": "bonus_string"
      },
      "outputs": [],
      "source": [
        "# String library\n",
        "import string\n",
        "print(\"Letters of the alphabet:\")\n",
        "print(string.ascii_lowercase)"
      ]
    },
    {
      "cell_type": "code",
      "execution_count": null,
      "metadata": {
        "id": "bonus_calendar"
      },
      "outputs": [],
      "source": [
        "# Calendar library\n",
        "import calendar\n",
        "print(\"Calendar for this month:\")\n",
        "print(calendar.month(2025, 1))"
      ]
    },
    {
      "cell_type": "code",
      "execution_count": null,
      "metadata": {
        "id": "bonus_platform"
      },
      "outputs": [],
      "source": [
        "# Platform library\n",
        "import platform\n",
        "print(\"Your system information:\")\n",
        "print(f\"Operating System: {platform.system()}\")\n",
        "print(f\"Python Version: {platform.python_version()}\")"
      ]
    },
    {
      "cell_type": "markdown",
      "metadata": {
        "id": "homework"
      },
      "source": [
        "---\n",
        "## Want to explore further? Here are some additional Challenges.\n",
        "\n",
        "**1. EASY:** Use the `random` library to create a magic 8-ball that gives random answers to yes/no questions.\n",
        "\n",
        "**2. MEDIUM:** Use the `datetime` library to calculate how many days until your birthday.\n",
        "\n",
        "**3. HARD:** Create a simple quiz game that:\n",
        "   - Asks 5 math questions using random numbers\n",
        "   - Tracks correct/incorrect answers\n",
        "   - Calculates statistics on your performance\n",
        "   - Shows how long it took to complete\n",
        "\n",
        "**4. CHALLENGE:** Research and try a new library we didn't cover in class. Use `dir()`, `help()`, and `type()` to explore it, then show the class something cool you discovered!"
      ]
    },
    {
      "cell_type": "markdown",
      "metadata": {
        "id": "end"
      },
      "source": [
        "---\n",
        "## End of Notebook - Great Job!\n",
        "\n",
        "Keep exploring and have fun with Python!"
      ]
    }
  ]
}