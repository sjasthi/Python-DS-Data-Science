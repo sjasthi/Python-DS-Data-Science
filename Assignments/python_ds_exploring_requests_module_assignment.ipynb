{
  "nbformat": 4,
  "nbformat_minor": 0,
  "metadata": {
    "colab": {
      "provenance": [],
      "toc_visible": true
    },
    "kernelspec": {
      "name": "python3",
      "display_name": "Python 3"
    },
    "language_info": {
      "name": "python"
    }
  },
  "cells": [
    {
      "cell_type": "markdown",
      "metadata": {
        "id": "header"
      },
      "source": [
        "# Python Requests Module Assignment\n",
        "## Exploring Web Requests and Response Objects\n",
        "\n",
        "**Total Points: 25**\n",
        "\n",
        "---\n",
        "\n",
        "### Learning Objectives\n",
        "By the end of this assignment, you will be able to:\n",
        "1. Import and use the `requests` module\n",
        "2. Make HTTP GET requests to websites and APIs\n",
        "3. Explore the Response object using `dir()` and `help()`\n",
        "4. Extract different types of data from web responses\n",
        "5. Handle different response formats (text, JSON, status codes)\n",
        "\n",
        "---\n",
        "\n",
        "### Instructions\n",
        "- Complete all TODO sections\n",
        "- Run all code cells in order\n",
        "- Write your answers in the designated cells\n",
        "- Save your completed notebook before submitting\n",
        "\n",
        "---\n",
        "\n",
        "### Point Distribution\n",
        "- Part 1: Installing and Importing (2 points)\n",
        "- Part 2: Making Your First Request (3 points)\n",
        "- Part 3: Exploring the Response Object (5 points)\n",
        "- Part 4: Working with Different Response Types (6 points)\n",
        "- Part 5: Response Methods and Attributes (5 points)\n",
        "- Part 6: Final Challenge (4 points)"
      ]
    },
    {
      "cell_type": "markdown",
      "metadata": {
        "id": "part1"
      },
      "source": [
        "---\n",
        "## Part 1: Installing and Importing the Requests Module (2 points)\n",
        "\n",
        "The `requests` module is a popular Python library for making HTTP requests. It's already installed in Google Colab, but let's verify and import it."
      ]
    },
    {
      "cell_type": "code",
      "execution_count": null,
      "metadata": {
        "id": "install_requests"
      },
      "outputs": [],
      "source": [
        "# Example: Installing requests (already installed in Colab)\n",
        "# If you were on your local machine, you would run:\n",
        "# !pip install requests\n",
        "\n",
        "# Import the requests module\n",
        "import requests\n",
        "\n",
        "print(\"Requests module imported successfully!\")\n",
        "print(f\"Requests version: {requests.__version__}\")"
      ]
    },
    {
      "cell_type": "markdown",
      "metadata": {
        "id": "todo1"
      },
      "source": [
        "### TODO 1.1 (1 point)\n",
        "Use `dir()` to see what's available in the requests module. Then use `help()` on the `get` function."
      ]
    },
    {
      "cell_type": "code",
      "execution_count": null,
      "metadata": {
        "id": "todo1_1"
      },
      "outputs": [],
      "source": [
        "# TODO: Use dir(requests) to see all available functions and attributes\n",
        "# Your code here:\n",
        "\n",
        "\n",
        "# TODO: Use help(requests.get) to learn about the get function\n",
        "# Your code here:\n"
      ]
    },
    {
      "cell_type": "markdown",
      "metadata": {
        "id": "todo1_2"
      },
      "source": [
        "### TODO 1.2 (1 point)\n",
        "In the markdown cell below, write in your own words what the `requests.get()` function does based on the help documentation."
      ]
    },
    {
      "cell_type": "markdown",
      "metadata": {
        "id": "answer1_2"
      },
      "source": [
        "**Your Answer Here:**\n",
        "\n",
        "(Write what requests.get() does)"
      ]
    },
    {
      "cell_type": "markdown",
      "metadata": {
        "id": "part2"
      },
      "source": [
        "---\n",
        "## Part 2: Making Your First Request (3 points)\n",
        "\n",
        "Let's make a request to a real website and see what we get back!"
      ]
    },
    {
      "cell_type": "code",
      "execution_count": null,
      "metadata": {
        "id": "example_request"
      },
      "outputs": [],
      "source": [
        "# Example: Making a GET request to a website\n",
        "url = \"https://httpbin.org/get\"\n",
        "response = requests.get(url)\n",
        "\n",
        "print(f\"Request sent to: {url}\")\n",
        "print(f\"Response received!\")\n",
        "print(f\"Response type: {type(response)}\")"
      ]
    },
    {
      "cell_type": "markdown",
      "metadata": {
        "id": "todo2_1"
      },
      "source": [
        "### TODO 2.1 (2 points)\n",
        "Make a GET request to `https://api.github.com` and store the response in a variable called `github_response`.\n",
        "Then print the type of the response object."
      ]
    },
    {
      "cell_type": "code",
      "execution_count": null,
      "metadata": {
        "id": "todo2_1_code"
      },
      "outputs": [],
      "source": [
        "# TODO: Make a request to https://api.github.com\n",
        "# Your code here:\n",
        "\n",
        "\n",
        "# TODO: Print the type of github_response\n",
        "# Your code here:\n"
      ]
    },
    {
      "cell_type": "markdown",
      "metadata": {
        "id": "todo2_2"
      },
      "source": [
        "### TODO 2.2 (1 point)\n",
        "What is the data type of the response object? (Answer in the markdown cell below)"
      ]
    },
    {
      "cell_type": "markdown",
      "metadata": {
        "id": "answer2_2"
      },
      "source": [
        "**Your Answer Here:**\n",
        "\n",
        "(What is the data type?)"
      ]
    },
    {
      "cell_type": "markdown",
      "metadata": {
        "id": "part3"
      },
      "source": [
        "---\n",
        "## Part 3: Exploring the Response Object (5 points)\n",
        "\n",
        "The Response object has many attributes and methods. Let's explore them!"
      ]
    },
    {
      "cell_type": "code",
      "execution_count": null,
      "metadata": {
        "id": "explore_response"
      },
      "outputs": [],
      "source": [
        "# Example: Exploring the response object\n",
        "url = \"https://httpbin.org/get\"\n",
        "response = requests.get(url)\n",
        "\n",
        "# Use dir() to see all attributes and methods\n",
        "print(\"All attributes and methods of the Response object:\")\n",
        "print([attr for attr in dir(response) if not attr.startswith('_')])"
      ]
    },
    {
      "cell_type": "markdown",
      "metadata": {
        "id": "todo3_1"
      },
      "source": [
        "### TODO 3.1 (2 points)\n",
        "Use `dir()` on your `github_response` object and filter to show only attributes/methods that do NOT start with underscore."
      ]
    },
    {
      "cell_type": "code",
      "execution_count": null,
      "metadata": {
        "id": "todo3_1_code"
      },
      "outputs": [],
      "source": [
        "# TODO: Use dir() on github_response and filter out items starting with '_'\n",
        "# Your code here:\n"
      ]
    },
    {
      "cell_type": "markdown",
      "metadata": {
        "id": "todo3_2"
      },
      "source": [
        "### TODO 3.2 (2 points)\n",
        "Use `help()` on the `json()` method of the response object. What does this method do?"
      ]
    },
    {
      "cell_type": "code",
      "execution_count": null,
      "metadata": {
        "id": "todo3_2_code"
      },
      "outputs": [],
      "source": [
        "# TODO: Use help() on the json() method\n",
        "# Your code here:\n"
      ]
    },
    {
      "cell_type": "markdown",
      "metadata": {
        "id": "answer3_2"
      },
      "source": [
        "**Your Answer: What does the json() method do?**\n",
        "\n",
        "(Write your answer here)"
      ]
    },
    {
      "cell_type": "markdown",
      "metadata": {
        "id": "todo3_3"
      },
      "source": [
        "### TODO 3.3 (1 point)\n",
        "Use `type()` to check what data type is returned by the `text` attribute and the `content` attribute."
      ]
    },
    {
      "cell_type": "code",
      "execution_count": null,
      "metadata": {
        "id": "todo3_3_code"
      },
      "outputs": [],
      "source": [
        "# TODO: Check the type of response.text\n",
        "# Your code here:\n",
        "\n",
        "\n",
        "# TODO: Check the type of response.content\n",
        "# Your code here:\n"
      ]
    },
    {
      "cell_type": "markdown",
      "metadata": {
        "id": "part4"
      },
      "source": [
        "---\n",
        "## Part 4: Working with Different Response Types (6 points)\n",
        "\n",
        "Web responses can come in different formats. Let's explore them!"
      ]
    },
    {
      "cell_type": "code",
      "execution_count": null,
      "metadata": {
        "id": "example_status"
      },
      "outputs": [],
      "source": [
        "# Example: Checking the status code\n",
        "response = requests.get(\"https://httpbin.org/get\")\n",
        "\n",
        "print(f\"Status Code: {response.status_code}\")\n",
        "print(f\"Was the request successful? {response.ok}\")\n",
        "\n",
        "# Status codes:\n",
        "# 200 = Success\n",
        "# 404 = Not Found\n",
        "# 500 = Server Error"
      ]
    },
    {
      "cell_type": "markdown",
      "metadata": {
        "id": "todo4_1"
      },
      "source": [
        "### TODO 4.1 (2 points)\n",
        "Make a request to `https://httpbin.org/status/404` (this simulates a page not found).\n",
        "Print the status code and check if `response.ok` is True or False."
      ]
    },
    {
      "cell_type": "code",
      "execution_count": null,
      "metadata": {
        "id": "todo4_1_code"
      },
      "outputs": [],
      "source": [
        "# TODO: Make a request to https://httpbin.org/status/404\n",
        "# Your code here:\n",
        "\n",
        "\n",
        "# TODO: Print the status_code\n",
        "# Your code here:\n",
        "\n",
        "\n",
        "# TODO: Print response.ok\n",
        "# Your code here:\n"
      ]
    },
    {
      "cell_type": "code",
      "execution_count": null,
      "metadata": {
        "id": "example_json"
      },
      "outputs": [],
      "source": [
        "# Example: Working with JSON responses\n",
        "response = requests.get(\"https://api.github.com/users/github\")\n",
        "\n",
        "# Get JSON data\n",
        "data = response.json()\n",
        "\n",
        "print(f\"Data type: {type(data)}\")\n",
        "print(f\"\\nGitHub user info:\")\n",
        "print(f\"Username: {data['login']}\")\n",
        "print(f\"Public Repos: {data['public_repos']}\")"
      ]
    },
    {
      "cell_type": "markdown",
      "metadata": {
        "id": "todo4_2"
      },
      "source": [
        "### TODO 4.2 (2 points)\n",
        "Make a request to `https://api.github.com/users/torvalds` (creator of Linux).\n",
        "Extract and print:\n",
        "1. The username (login)\n",
        "2. The number of followers\n",
        "3. The account creation date (created_at)"
      ]
    },
    {
      "cell_type": "code",
      "execution_count": null,
      "metadata": {
        "id": "todo4_2_code"
      },
      "outputs": [],
      "source": [
        "# TODO: Make request to https://api.github.com/users/torvalds\n",
        "# Your code here:\n",
        "\n",
        "\n",
        "# TODO: Convert to JSON\n",
        "# Your code here:\n",
        "\n",
        "\n",
        "# TODO: Print the username, followers, and created_at\n",
        "# Your code here:\n"
      ]
    },
    {
      "cell_type": "markdown",
      "metadata": {
        "id": "todo4_3"
      },
      "source": [
        "### TODO 4.3 (2 points)\n",
        "Make a request to `https://httpbin.org/headers`.\n",
        "This endpoint returns the headers your browser sent.\n",
        "Print the entire JSON response to see what information is sent with your request."
      ]
    },
    {
      "cell_type": "code",
      "execution_count": null,
      "metadata": {
        "id": "todo4_3_code"
      },
      "outputs": [],
      "source": [
        "# TODO: Make request to https://httpbin.org/headers\n",
        "# Your code here:\n",
        "\n",
        "\n",
        "# TODO: Print the JSON response\n",
        "# Your code here:\n"
      ]
    },
    {
      "cell_type": "markdown",
      "metadata": {
        "id": "part5"
      },
      "source": [
        "---\n",
        "## Part 5: Response Methods and Attributes (5 points)\n",
        "\n",
        "Let's explore more useful attributes and methods of the Response object."
      ]
    },
    {
      "cell_type": "code",
      "execution_count": null,
      "metadata": {
        "id": "example_headers"
      },
      "outputs": [],
      "source": [
        "# Example: Examining response headers\n",
        "response = requests.get(\"https://httpbin.org/get\")\n",
        "\n",
        "print(\"Response Headers:\")\n",
        "print(f\"Type: {type(response.headers)}\")\n",
        "print(f\"\\nContent-Type: {response.headers['Content-Type']}\")\n",
        "print(f\"Server: {response.headers.get('Server', 'Unknown')}\")"
      ]
    },
    {
      "cell_type": "markdown",
      "metadata": {
        "id": "todo5_1"
      },
      "source": [
        "### TODO 5.1 (2 points)\n",
        "Make a request to `https://api.github.com`.\n",
        "Explore the response headers and answer:\n",
        "1. What is the Content-Type?\n",
        "2. What is the Server header value?\n",
        "3. Print all the header keys (use `.keys()` method)"
      ]
    },
    {
      "cell_type": "code",
      "execution_count": null,
      "metadata": {
        "id": "todo5_1_code"
      },
      "outputs": [],
      "source": [
        "# TODO: Make request to https://api.github.com\n",
        "# Your code here:\n",
        "\n",
        "\n",
        "# TODO: Print Content-Type\n",
        "# Your code here:\n",
        "\n",
        "\n",
        "# TODO: Print Server\n",
        "# Your code here:\n",
        "\n",
        "\n",
        "# TODO: Print all header keys\n",
        "# Your code here:\n"
      ]
    },
    {
      "cell_type": "code",
      "execution_count": null,
      "metadata": {
        "id": "example_url"
      },
      "outputs": [],
      "source": [
        "# Example: Checking the URL\n",
        "response = requests.get(\"https://httpbin.org/get\")\n",
        "\n",
        "print(f\"URL requested: {response.url}\")\n",
        "print(f\"Encoding used: {response.encoding}\")\n",
        "print(f\"Time elapsed: {response.elapsed}\")"
      ]
    },
    {
      "cell_type": "markdown",
      "metadata": {
        "id": "todo5_2"
      },
      "source": [
        "### TODO 5.2 (3 points)\n",
        "Create a function called `analyze_response()` that takes a URL as input and prints:\n",
        "1. The status code\n",
        "2. Whether the request was successful (ok)\n",
        "3. The content type\n",
        "4. The response time (elapsed)\n",
        "\n",
        "Test your function with `https://httpbin.org/get`"
      ]
    },
    {
      "cell_type": "code",
      "execution_count": null,
      "metadata": {
        "id": "todo5_2_code"
      },
      "outputs": [],
      "source": [
        "# TODO: Create the analyze_response function\n",
        "def analyze_response(url):\n",
        "    # Your code here:\n",
        "    pass\n",
        "\n",
        "\n",
        "# TODO: Test your function\n",
        "# analyze_response(\"https://httpbin.org/get\")\n"
      ]
    },
    {
      "cell_type": "markdown",
      "metadata": {
        "id": "part6"
      },
      "source": [
        "---\n",
        "## Part 6: Final Challenge (4 points)\n",
        "\n",
        "Put everything together in this final challenge!"
      ]
    },
    {
      "cell_type": "markdown",
      "metadata": {
        "id": "todo6"
      },
      "source": [
        "### TODO 6.1 (4 points)\n",
        "\n",
        "Create a program that:\n",
        "1. Makes a request to `https://api.github.com/repos/python/cpython`\n",
        "   (This is the Python programming language repository)\n",
        "2. Extracts and prints the following information:\n",
        "   - Repository name\n",
        "   - Description\n",
        "   - Number of stars\n",
        "   - Number of forks\n",
        "   - Primary programming language\n",
        "3. Check if the request was successful (status code 200)\n",
        "4. Handle the case where the request might fail\n",
        "\n",
        "**Bonus (optional):** Format your output nicely!"
      ]
    },
    {
      "cell_type": "code",
      "execution_count": null,
      "metadata": {
        "id": "todo6_code"
      },
      "outputs": [],
      "source": [
        "# TODO: Your final challenge code here\n",
        "\n",
        "# Step 1: Make the request\n",
        "# Your code here:\n",
        "\n",
        "\n",
        "# Step 2: Check if successful\n",
        "# Your code here:\n",
        "\n",
        "\n",
        "# Step 3: Extract and print the information\n",
        "# Your code here:\n"
      ]
    },
    {
      "cell_type": "markdown",
      "metadata": {
        "id": "reflection"
      },
      "source": [
        "---\n",
        "## Reflection Questions (No points, but good practice!)\n",
        "\n",
        "Answer these questions based on what you learned:\n",
        "\n",
        "1. What is the difference between `response.text` and `response.json()`?\n",
        "\n",
        "2. Why is it important to check the status code before processing the response?\n",
        "\n",
        "3. What are some real-world applications where you might use the requests module?\n",
        "\n",
        "**Your Answers:**\n",
        "\n",
        "(Write your reflections here)"
      ]
    },
    {
      "cell_type": "markdown",
      "metadata": {
        "id": "summary"
      },
      "source": [
        "---\n",
        "## Summary\n",
        "\n",
        "Congratulations! You've learned how to:\n",
        "- Use the `requests` module to make HTTP GET requests\n",
        "- Explore objects using `dir()` and `help()`\n",
        "- Work with different response formats (text, JSON, headers)\n",
        "- Extract useful information from web APIs\n",
        "- Check response status codes\n",
        "- Handle response data programmatically\n",
        "\n",
        "### Key Takeaways:\n",
        "- `requests.get(url)` makes a GET request to a URL\n",
        "- The Response object has many useful attributes:\n",
        "  - `.status_code` - HTTP status (200, 404, etc.)\n",
        "  - `.text` - Response as a string\n",
        "  - `.json()` - Parse JSON response\n",
        "  - `.headers` - Response headers\n",
        "  - `.ok` - True if status code < 400\n",
        "- Always check if a request was successful before processing data\n",
        "- Use `dir()` and `help()` to explore new modules and objects\n",
        "\n",
        "### Additional Resources:\n",
        "- [Requests Documentation](https://requests.readthedocs.io/)\n",
        "- [HTTP Status Codes](https://httpstatuses.com/)\n",
        "- [JSONPlaceholder](https://jsonplaceholder.typicode.com/) - Free fake API for testing\n",
        "\n",
        "---\n",
        "\n",
        "**Before submitting:**\n",
        "1. Make sure all cells run without errors\n",
        "2. Check that you've answered all TODO sections\n",
        "3. Save your notebook\n",
        "4. Download or share your completed notebook with your instructor"
      ]
    }
  ]
}
