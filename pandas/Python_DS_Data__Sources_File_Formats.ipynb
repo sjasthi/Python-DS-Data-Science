{
  "nbformat": 4,
  "nbformat_minor": 0,
  "metadata": {
    "colab": {
      "provenance": [],
      "toc_visible": true
    },
    "kernelspec": {
      "name": "python3",
      "display_name": "Python 3"
    },
    "language_info": {
      "name": "python"
    }
  },
  "cells": [
    {
      "cell_type": "markdown",
      "source": [
        "# Python DS (Data Science)\n",
        "# Siva Jasthi, Ph.D.\n",
        "# Chief Instructor\n",
        "# www.learnandhelp.com\n",
        "\n",
        "- Writing to different file formats.\n",
        "- Reading from different file formats\n",
        "- Exploring the file formats\n",
        "- Data Sources\n",
        "-- Asking the user for input\n",
        "-- Generating the data within python program\n",
        "-- Reading the data from a file\n",
        "-- Fetching the data from API\n",
        "-- scraping the web\n",
        "-- Fetching the data from a database\n",
        "\n"
      ],
      "metadata": {
        "id": "9lwWhxXk4hpK"
      }
    },
    {
      "cell_type": "markdown",
      "source": [
        "# Student and StudentCollection"
      ],
      "metadata": {
        "id": "FGfePPXU05sd"
      }
    },
    {
      "cell_type": "code",
      "execution_count": null,
      "metadata": {
        "id": "oCQh6AzlEEcH"
      },
      "outputs": [],
      "source": [
        "#@title Student class\n",
        "class Student:\n",
        "    def __init__(self, name, email, marks):\n",
        "        self.name = name\n",
        "        self.email = email\n",
        "        self.marks = marks\n",
        "\n",
        "    def __str__(self):\n",
        "        return f\"Name: {self.name}, Email: {self.email}, Marks: {self.marks}\"\n",
        "\n",
        "    def __repr__(self):\n",
        "        return f\"Student(name={self.name}, email={self.email}, marks={self.marks})\"\n"
      ]
    },
    {
      "cell_type": "code",
      "source": [
        "#@title Students Collection\n",
        "# Reference: https://homepage.net/name_generator/\n",
        "\n",
        "# Creating 10 student objects\n",
        "students = [\n",
        "    Student(\"John Doe\", \"john.doe@example.com\", 85),\n",
        "    Student(\"Jane Smith\", \"jane.smith@example.com\", 90),\n",
        "    Student(\"Sam Wilson\", \"sam.wilson@example.com\", 88),\n",
        "    Student(\"Alice Johnson\", \"alice.johnson@example.com\", 92),\n",
        "    Student(\"Bob Brown\", \"bob.brown@example.com\", 75),\n",
        "    Student(\"Chris Evans\", \"chris.evans@example.com\", 89),\n",
        "    Student(\"Diana Prince\", \"diana.prince@example.com\", 95),\n",
        "    Student(\"Peter Parker\", \"peter.parker@example.com\", 87),\n",
        "    Student(\"Bruce Wayne\", \"bruce.wayne@example.com\", 93),\n",
        "    Student(\"Clark Kent\", \"clark.kent@example.com\", 91)\n",
        "]\n",
        "\n",
        "# Printing the student objects\n",
        "for student in students:\n",
        "    print(student)\n"
      ],
      "metadata": {
        "colab": {
          "base_uri": "https://localhost:8080/"
        },
        "id": "lJrGkIV9EvZv",
        "outputId": "a8a57331-bf15-4e41-a5b9-5ebb0e0e4d4a"
      },
      "execution_count": null,
      "outputs": [
        {
          "output_type": "stream",
          "name": "stdout",
          "text": [
            "Name: John Doe, Email: john.doe@example.com, Marks: 85\n",
            "Name: Jane Smith, Email: jane.smith@example.com, Marks: 90\n",
            "Name: Sam Wilson, Email: sam.wilson@example.com, Marks: 88\n",
            "Name: Alice Johnson, Email: alice.johnson@example.com, Marks: 92\n",
            "Name: Bob Brown, Email: bob.brown@example.com, Marks: 75\n",
            "Name: Chris Evans, Email: chris.evans@example.com, Marks: 89\n",
            "Name: Diana Prince, Email: diana.prince@example.com, Marks: 95\n",
            "Name: Peter Parker, Email: peter.parker@example.com, Marks: 87\n",
            "Name: Bruce Wayne, Email: bruce.wayne@example.com, Marks: 93\n",
            "Name: Clark Kent, Email: clark.kent@example.com, Marks: 91\n"
          ]
        }
      ]
    },
    {
      "cell_type": "markdown",
      "source": [
        "# Writing Data to different formats"
      ],
      "metadata": {
        "id": "vduN5dan0Uh9"
      }
    },
    {
      "cell_type": "code",
      "source": [
        "#@title 1.CSV format\n",
        "import csv\n",
        "\n",
        "def students_to_csv(students, filename='students.csv'):\n",
        "    with open(filename, mode='w', newline='') as file:\n",
        "        writer = csv.writer(file)\n",
        "        # Writing the header\n",
        "        writer.writerow(['Name', 'Email', 'Marks'])\n",
        "        # Writing student data\n",
        "        for student in students:\n",
        "            writer.writerow([student.name, student.email, student.marks])\n",
        "    print(f\"Data saved to {filename}\")\n",
        "\n",
        "# Calling the function to save students to CSV\n",
        "students_to_csv(students)"
      ],
      "metadata": {
        "colab": {
          "base_uri": "https://localhost:8080/"
        },
        "id": "0GiSrUA1E3ZQ",
        "outputId": "a59c7089-43be-476a-8325-1ce170bc66f8"
      },
      "execution_count": null,
      "outputs": [
        {
          "output_type": "stream",
          "name": "stdout",
          "text": [
            "Data saved to students.csv\n"
          ]
        }
      ]
    },
    {
      "cell_type": "code",
      "source": [
        "#@title 2.Excel format\n",
        "from openpyxl import Workbook\n",
        "\n",
        "\n",
        "# Helper function to export students to an Excel file\n",
        "def students_to_excel(students, filename='students.xlsx'):\n",
        "    workbook = Workbook()\n",
        "    sheet = workbook.active\n",
        "    sheet.title = \"Students\"\n",
        "\n",
        "    # Writing headers\n",
        "    headers = [\"Name\", \"Email\", \"Marks\"]\n",
        "    sheet.append(headers)\n",
        "\n",
        "    # Writing each student's data\n",
        "    for student in students:\n",
        "        sheet.append([student.name, student.email, student.marks])\n",
        "\n",
        "    # Saving the file\n",
        "    workbook.save(filename)\n",
        "    print(f\"Data saved to {filename}\")\n",
        "\n",
        "\n",
        "# Calling the function to save students to Excel\n",
        "students_to_excel(students)\n"
      ],
      "metadata": {
        "colab": {
          "base_uri": "https://localhost:8080/"
        },
        "id": "YvHut3-tt6Rh",
        "outputId": "fd2051d0-328d-40c2-a527-075d46845cf5"
      },
      "execution_count": null,
      "outputs": [
        {
          "output_type": "stream",
          "name": "stdout",
          "text": [
            "Data saved to students.xlsx\n"
          ]
        }
      ]
    },
    {
      "cell_type": "code",
      "source": [
        "#@title 3.JSON format\n",
        "import json\n",
        "\n",
        "class Student:\n",
        "    def __init__(self, name, email, marks):\n",
        "        self.name = name\n",
        "        self.email = email\n",
        "        self.marks = marks\n",
        "\n",
        "    def __str__(self):\n",
        "        return f\"Name: {self.name}, Email: {self.email}, Marks: {self.marks}\"\n",
        "\n",
        "    def __repr__(self):\n",
        "        return f\"Student(name={self.name}, email={self.email}, marks={self.marks})\"\n",
        "\n",
        "    # Method to convert student object to dictionary (for JSON serialization)\n",
        "    def to_dict(self):\n",
        "        return {\n",
        "            'name': self.name,\n",
        "            'email': self.email,\n",
        "            'marks': self.marks\n",
        "        }\n",
        "\n",
        "# Helper function to export students to JSON\n",
        "def students_to_json(students, filename='students.json'):\n",
        "    students_data = [student.to_dict() for student in students]\n",
        "    with open(filename, 'w') as file:\n",
        "        json.dump(students_data, file, indent=4)\n",
        "    print(f\"Data saved to {filename}\")\n",
        "\n",
        "# Creating 10 student objects\n",
        "students = [\n",
        "    Student(\"John Doe\", \"john.doe@example.com\", 85),\n",
        "    Student(\"Jane Smith\", \"jane.smith@example.com\", 90),\n",
        "    Student(\"Sam Wilson\", \"sam.wilson@example.com\", 88),\n",
        "    Student(\"Alice Johnson\", \"alice.johnson@example.com\", 92),\n",
        "    Student(\"Bob Brown\", \"bob.brown@example.com\", 75),\n",
        "    Student(\"Chris Evans\", \"chris.evans@example.com\", 89),\n",
        "    Student(\"Diana Prince\", \"diana.prince@example.com\", 95),\n",
        "    Student(\"Peter Parker\", \"peter.parker@example.com\", 87),\n",
        "    Student(\"Bruce Wayne\", \"bruce.wayne@example.com\", 93),\n",
        "    Student(\"Clark Kent\", \"clark.kent@example.com\", 91)\n",
        "]\n",
        "\n",
        "# Calling the function to save students to JSON\n",
        "students_to_json(students)\n"
      ],
      "metadata": {
        "colab": {
          "base_uri": "https://localhost:8080/"
        },
        "id": "oDfaEpwkFNKt",
        "outputId": "fc817a24-e432-42d0-839d-38eee540ab70"
      },
      "execution_count": null,
      "outputs": [
        {
          "output_type": "stream",
          "name": "stdout",
          "text": [
            "Data saved to students.json\n"
          ]
        }
      ]
    },
    {
      "cell_type": "code",
      "source": [
        "#@title 4.XML format\n",
        "import xml.etree.ElementTree as ET\n",
        "\n",
        "# Helper function to export students to XML\n",
        "def students_to_xml(students, filename='students.xml'):\n",
        "    root = ET.Element(\"students\")  # Root element\n",
        "\n",
        "    for student in students:\n",
        "        student_elem = ET.SubElement(root, \"student\")  # Each student is a child of root\n",
        "        ET.SubElement(student_elem, \"name\").text = student.name\n",
        "        ET.SubElement(student_elem, \"email\").text = student.email\n",
        "        ET.SubElement(student_elem, \"marks\").text = str(student.marks)\n",
        "\n",
        "    # Convert the tree to an ElementTree object and write to file\n",
        "    tree = ET.ElementTree(root)\n",
        "    tree.write(filename, encoding='utf-8', xml_declaration=True)\n",
        "    print(f\"Data saved to {filename}\")\n",
        "\n",
        "# Calling the function to save students to XML\n",
        "students_to_xml(students)\n"
      ],
      "metadata": {
        "id": "q7JRD3V4s7sA",
        "colab": {
          "base_uri": "https://localhost:8080/"
        },
        "outputId": "efa009e8-95ef-4dd7-d753-fa6b173ce71a"
      },
      "execution_count": null,
      "outputs": [
        {
          "output_type": "stream",
          "name": "stdout",
          "text": [
            "Data saved to students.xml\n"
          ]
        }
      ]
    },
    {
      "cell_type": "code",
      "source": [
        "#@title 5.HTML format\n",
        "\n",
        "# Helper function to export students to HTML\n",
        "def students_to_html(students, filename='students.html'):\n",
        "    with open(filename, 'w') as file:\n",
        "        # Write HTML header and opening tags\n",
        "        file.write(\"<html>\\n<head><title>Student Data</title></head>\\n<body>\\n\")\n",
        "        file.write(\"<h1>Student Data</h1>\\n\")\n",
        "        file.write(\"<table border='1'>\\n\")\n",
        "        file.write(\"<tr><th>Name</th><th>Email</th><th>Marks</th></tr>\\n\")\n",
        "\n",
        "        # Write each student's data in a table row\n",
        "        for student in students:\n",
        "            file.write(f\"<tr><td>{student.name}</td><td>{student.email}</td><td>{student.marks}</td></tr>\\n\")\n",
        "\n",
        "        # Write HTML closing tags\n",
        "        file.write(\"</table>\\n</body>\\n</html>\")\n",
        "    print(f\"Data saved to {filename}\")\n",
        "\n",
        "\n",
        "# Calling the function to save students to HTML\n",
        "students_to_html(students)\n"
      ],
      "metadata": {
        "id": "Kkt12khbtg6n",
        "colab": {
          "base_uri": "https://localhost:8080/"
        },
        "outputId": "1e0a8a66-d6c8-4c3d-88d7-6d789fcc768e"
      },
      "execution_count": null,
      "outputs": [
        {
          "output_type": "stream",
          "name": "stdout",
          "text": [
            "Data saved to students.html\n"
          ]
        }
      ]
    },
    {
      "cell_type": "code",
      "source": [
        "#@title 6.Pickle format\n",
        "import pickle\n",
        "\n",
        "# Helper function to export students to a binary file using pickle\n",
        "def students_to_pickle(students, filename='students.pkl'):\n",
        "    with open(filename, 'wb') as file:\n",
        "        pickle.dump(students, file)\n",
        "    print(f\"Data saved to {filename}\")\n",
        "\n",
        "# Calling the function to save students to a pickle file\n",
        "students_to_pickle(students)\n"
      ],
      "metadata": {
        "id": "HQSleZGwtsqy",
        "colab": {
          "base_uri": "https://localhost:8080/"
        },
        "outputId": "f3be94c3-c564-4f8e-b479-3a3f48763a16"
      },
      "execution_count": null,
      "outputs": [
        {
          "output_type": "stream",
          "name": "stdout",
          "text": [
            "Data saved to students.pkl\n"
          ]
        }
      ]
    },
    {
      "cell_type": "code",
      "source": [
        "#@title 7.Text format\n",
        "\n",
        "# Helper Function to write students to a text file\n",
        "def students_to_text(students, filename='students.txt'):\n",
        "    with open(filename, 'w') as file:\n",
        "        for student in students:\n",
        "            file.write(str(student) + '\\n')\n",
        "    print(f\"Data saved to {filename}\")\n",
        "\n",
        "# Call the function to save students to a text file\n",
        "students_to_text(students)"
      ],
      "metadata": {
        "id": "sHREJoi0zjlR",
        "colab": {
          "base_uri": "https://localhost:8080/"
        },
        "outputId": "23924993-6f65-4e83-968f-1204fc5ab3c3"
      },
      "execution_count": null,
      "outputs": [
        {
          "output_type": "stream",
          "name": "stdout",
          "text": [
            "Data saved to students.txt\n"
          ]
        }
      ]
    },
    {
      "cell_type": "code",
      "source": [
        "#@title 8.PDF format\n",
        "# Helper Function to write students to a PDF file\n",
        "!pip install reportlab\n",
        "from reportlab.lib.pagesizes import A4\n",
        "from reportlab.pdfgen import canvas\n",
        "\n",
        "def students_to_pdf(students, filename='students.pdf'):\n",
        "    c = canvas.Canvas(filename, pagesize=A4)\n",
        "    width, height = A4\n",
        "    y_position = height - 50  # Start position for writing text\n",
        "\n",
        "    c.setFont(\"Helvetica\", 12)\n",
        "    c.drawString(100, y_position, \"Student Information:\")\n",
        "    y_position -= 20  # Move down for the next line\n",
        "\n",
        "    for student in students:\n",
        "        # Write each student's info to the PDF\n",
        "        c.drawString(100, y_position, str(student))\n",
        "        y_position -= 20  # Move down for each new student\n",
        "\n",
        "    c.save()\n",
        "    print(f\"Data saved to {filename}\")\n",
        "\n",
        "# Call the function to save students to a PDF file\n",
        "students_to_pdf(students)"
      ],
      "metadata": {
        "id": "wVGbppy0zp9G",
        "colab": {
          "base_uri": "https://localhost:8080/"
        },
        "outputId": "ed52c2a4-b8ea-4d4e-e9a5-988f1139e6c6"
      },
      "execution_count": null,
      "outputs": [
        {
          "output_type": "stream",
          "name": "stdout",
          "text": [
            "Collecting reportlab\n",
            "  Downloading reportlab-4.2.5-py3-none-any.whl.metadata (1.5 kB)\n",
            "Requirement already satisfied: pillow>=9.0.0 in /usr/local/lib/python3.10/dist-packages (from reportlab) (11.0.0)\n",
            "Requirement already satisfied: chardet in /usr/local/lib/python3.10/dist-packages (from reportlab) (5.2.0)\n",
            "Downloading reportlab-4.2.5-py3-none-any.whl (1.9 MB)\n",
            "\u001b[?25l   \u001b[90m━━━━━━━━━━━━━━━━━━━━━━━━━━━━━━━━━━━━━━━━\u001b[0m \u001b[32m0.0/1.9 MB\u001b[0m \u001b[31m?\u001b[0m eta \u001b[36m-:--:--\u001b[0m\r\u001b[2K   \u001b[91m━━━━━━━━━━━━━━━━━━━━━━━\u001b[0m\u001b[91m╸\u001b[0m\u001b[90m━━━━━━━━━━━━━━━━\u001b[0m \u001b[32m1.1/1.9 MB\u001b[0m \u001b[31m39.5 MB/s\u001b[0m eta \u001b[36m0:00:01\u001b[0m\r\u001b[2K   \u001b[90m━━━━━━━━━━━━━━━━━━━━━━━━━━━━━━━━━━━━━━━━\u001b[0m \u001b[32m1.9/1.9 MB\u001b[0m \u001b[31m30.9 MB/s\u001b[0m eta \u001b[36m0:00:00\u001b[0m\n",
            "\u001b[?25hInstalling collected packages: reportlab\n",
            "Successfully installed reportlab-4.2.5\n",
            "Data saved to students.pdf\n"
          ]
        }
      ]
    },
    {
      "cell_type": "code",
      "source": [
        "#@title 9.DOCX format\n",
        "!pip install python-docx\n",
        "from docx import Document\n",
        "\n",
        "\n",
        "# Helper Function to write students to a DOCX file\n",
        "def students_to_docx(students, filename='students.docx'):\n",
        "    doc = Document()\n",
        "    doc.add_heading('Student Information', level=1)\n",
        "\n",
        "    for student in students:\n",
        "        # Add each student's info as a paragraph\n",
        "        doc.add_paragraph(str(student))\n",
        "\n",
        "    # Save the document\n",
        "    doc.save(filename)\n",
        "    print(f\"Data saved to {filename}\")\n",
        "\n",
        "# Call the function to save students to a DOCX file\n",
        "students_to_docx(students)\n"
      ],
      "metadata": {
        "id": "X8iVMnT5z1bY",
        "colab": {
          "base_uri": "https://localhost:8080/"
        },
        "outputId": "e2e653d3-3c3c-4315-de0c-b79e9f9510da"
      },
      "execution_count": null,
      "outputs": [
        {
          "output_type": "stream",
          "name": "stdout",
          "text": [
            "Collecting python-docx\n",
            "  Downloading python_docx-1.1.2-py3-none-any.whl.metadata (2.0 kB)\n",
            "Requirement already satisfied: lxml>=3.1.0 in /usr/local/lib/python3.10/dist-packages (from python-docx) (5.3.0)\n",
            "Requirement already satisfied: typing-extensions>=4.9.0 in /usr/local/lib/python3.10/dist-packages (from python-docx) (4.12.2)\n",
            "Downloading python_docx-1.1.2-py3-none-any.whl (244 kB)\n",
            "\u001b[?25l   \u001b[90m━━━━━━━━━━━━━━━━━━━━━━━━━━━━━━━━━━━━━━━━\u001b[0m \u001b[32m0.0/244.3 kB\u001b[0m \u001b[31m?\u001b[0m eta \u001b[36m-:--:--\u001b[0m\r\u001b[2K   \u001b[90m━━━━━━━━━━━━━━━━━━━━━━━━━━━━━━━━━━━━━━━━\u001b[0m \u001b[32m244.3/244.3 kB\u001b[0m \u001b[31m8.3 MB/s\u001b[0m eta \u001b[36m0:00:00\u001b[0m\n",
            "\u001b[?25hInstalling collected packages: python-docx\n",
            "Successfully installed python-docx-1.1.2\n",
            "Data saved to students.docx\n"
          ]
        }
      ]
    },
    {
      "cell_type": "code",
      "source": [
        "#@title 10.RTF format\n",
        "# !pip install pyrtf-ng\n",
        "\n",
        "# from pyrtf import *\n",
        "\n",
        "# Helper Function to write students to an RTF file\n",
        "def students_to_rtf(students, filename='students.rtf'):\n",
        "    rtf_content = \"{\\\\rtf1\\\\ansi\\\\ansicpg1252\\\\deff0\\\\nouicompat\\\\deflang1033\\n\"\n",
        "    rtf_content += \"{\\\\fonttbl{\\\\f0\\\\fnil\\\\fcharset0 Calibri;}}\\n\"\n",
        "    rtf_content += \"{\\\\*\\\\generator Riched20 10.0.18362;}\\\\viewkind4\\\\uc1 \\n\"\n",
        "    rtf_content += \"\\\\pard\\\\sa200\\\\sl276\\\\slmult1\\\\f0\\\\fs22\\\\lang9 Student Information\\\\par\\n\"\n",
        "\n",
        "    for student in students:\n",
        "        rtf_content += f\"{str(student)}\\\\par\\n\"\n",
        "\n",
        "    rtf_content += \"}\"\n",
        "\n",
        "    with open(filename, 'w') as file:\n",
        "        file.write(rtf_content)\n",
        "    print(f\"Data saved to {filename}\")\n",
        "\n",
        "# Call the function to save students to an RTF file\n",
        "students_to_rtf(students)"
      ],
      "metadata": {
        "id": "Dg5L8LJjz3hm",
        "colab": {
          "base_uri": "https://localhost:8080/"
        },
        "outputId": "1bd3e61c-4d6b-41e8-dce7-c6ad9100b2ea"
      },
      "execution_count": null,
      "outputs": [
        {
          "output_type": "stream",
          "name": "stdout",
          "text": [
            "Data saved to students.rtf\n"
          ]
        }
      ]
    },
    {
      "cell_type": "code",
      "source": [
        "#@title 11.SQL format\n",
        "# Function to generate MySQL SQL insert statements\n",
        "def students_to_mysql_sql(students, filename='students.sql'):\n",
        "    with open(filename, 'w') as file:\n",
        "        for student in students:\n",
        "            sql_statement = f\"INSERT INTO `students` (`name`, `age`, `grade`) VALUES {str(student)};\\n\"\n",
        "            file.write(sql_statement)\n",
        "    print(f\"MySQL SQL statements saved to {filename}\")\n",
        "\n",
        "# Call the function to save students as MySQL SQL insert statements\n",
        "students_to_mysql_sql(students)\n",
        "\n",
        "'''\n",
        "CREATE TABLE students (\n",
        "    id INT AUTO_INCREMENT PRIMARY KEY,\n",
        "    name VARCHAR(100),\n",
        "    email VARCHAR(100),\n",
        "    marks INT\n",
        ");\n",
        "\n",
        "'''"
      ],
      "metadata": {
        "id": "4kxsh-I7z6nO",
        "colab": {
          "base_uri": "https://localhost:8080/",
          "height": 53
        },
        "outputId": "89eec589-29d7-46f7-b11f-6331706f7e59"
      },
      "execution_count": null,
      "outputs": [
        {
          "output_type": "stream",
          "name": "stdout",
          "text": [
            "MySQL SQL statements saved to students.sql\n"
          ]
        },
        {
          "output_type": "execute_result",
          "data": {
            "text/plain": [
              "'\\nCREATE TABLE students (\\n    id INT AUTO_INCREMENT PRIMARY KEY,\\n    name VARCHAR(100),\\n    email VARCHAR(100),\\n    marks INT\\n);\\n\\n'"
            ],
            "application/vnd.google.colaboratory.intrinsic+json": {
              "type": "string"
            }
          },
          "metadata": {},
          "execution_count": 13
        }
      ]
    },
    {
      "cell_type": "code",
      "source": [
        "#@title 12.YAML format\n",
        "import yaml\n",
        "\n",
        "# Helper Function to write students to a YAML file\n",
        "def students_to_yaml(students, filename='students.yaml'):\n",
        "    # Convert student objects to a list of dictionaries\n",
        "    students_list = [{'name': student.name, 'email': student.email, 'marks': student.marks} for student in students]\n",
        "\n",
        "    # Write to YAML file\n",
        "    with open(filename, 'w') as file:\n",
        "        yaml.dump(students_list, file, default_flow_style=False)\n",
        "    print(f\"Data saved to {filename}\")\n",
        "\n",
        "# Call the function to save students as YAML\n",
        "students_to_yaml(students)\n",
        "lajdf"
      ],
      "metadata": {
        "id": "_xFFdxrMBkat",
        "colab": {
          "base_uri": "https://localhost:8080/",
          "height": 193
        },
        "outputId": "f76fe1b1-247f-4ebb-c034-86af698e6d72"
      },
      "execution_count": null,
      "outputs": [
        {
          "output_type": "stream",
          "name": "stdout",
          "text": [
            "Data saved to students.yaml\n"
          ]
        },
        {
          "output_type": "error",
          "ename": "NameError",
          "evalue": "name 'lajdf' is not defined",
          "traceback": [
            "\u001b[0;31m---------------------------------------------------------------------------\u001b[0m",
            "\u001b[0;31mNameError\u001b[0m                                 Traceback (most recent call last)",
            "\u001b[0;32m<ipython-input-14-07c3c1541062>\u001b[0m in \u001b[0;36m<cell line: 16>\u001b[0;34m()\u001b[0m\n\u001b[1;32m     14\u001b[0m \u001b[0;31m# Call the function to save students as YAML\u001b[0m\u001b[0;34m\u001b[0m\u001b[0;34m\u001b[0m\u001b[0m\n\u001b[1;32m     15\u001b[0m \u001b[0mstudents_to_yaml\u001b[0m\u001b[0;34m(\u001b[0m\u001b[0mstudents\u001b[0m\u001b[0;34m)\u001b[0m\u001b[0;34m\u001b[0m\u001b[0;34m\u001b[0m\u001b[0m\n\u001b[0;32m---> 16\u001b[0;31m \u001b[0mlajdf\u001b[0m\u001b[0;34m\u001b[0m\u001b[0;34m\u001b[0m\u001b[0m\n\u001b[0m",
            "\u001b[0;31mNameError\u001b[0m: name 'lajdf' is not defined"
          ]
        }
      ]
    },
    {
      "cell_type": "markdown",
      "source": [
        "# Reading data from different formats"
      ],
      "metadata": {
        "id": "1GOcJ_R10bIl"
      }
    },
    {
      "cell_type": "code",
      "source": [
        "#@title 1.CSV format\n",
        "# Step 1: Helper function to read students from CSV file\n",
        "def read_students_from_csv(filename='students.csv'):\n",
        "    students = []\n",
        "    with open(filename, mode='r', newline='') as file:\n",
        "        reader = csv.reader(file)\n",
        "        # Skip the header row\n",
        "        next(reader)\n",
        "        for row in reader:\n",
        "            name, email, age = row\n",
        "            students.append(Student(name, email, int(age)))\n",
        "    return students\n",
        "\n",
        "# Step 2: Add a new student\n",
        "def add_student(students, student):\n",
        "    students.append(student)\n",
        "\n",
        "# Step 3: Print the student collection\n",
        "def print_students(students):\n",
        "    for student in students:\n",
        "        print(student)\n",
        "\n",
        "# Assuming there is a CSV file named 'students.csv' with the following content:\n",
        "# Name,Email,Age\n",
        "# Alice,alice@example.com,20\n",
        "# Bob,bob@example.com,21\n",
        "# Charlie,charlie@example.com,19\n",
        "\n",
        "# Step 4: Main execution\n",
        "students = read_students_from_csv()  # Read existing students\n",
        "# Create new student\n",
        "new_student = Student(\"Siva Jasthi\", \"siva.jasthi@gmail.com\", 35)\n",
        "add_student(students, new_student)  # Add the new student\n",
        "print_students(students)  # Print the student collection"
      ],
      "metadata": {
        "id": "yRjuZ9Lv0eHG",
        "colab": {
          "base_uri": "https://localhost:8080/"
        },
        "outputId": "3f46ca72-4522-4d0d-b0b4-fd72358febfe"
      },
      "execution_count": null,
      "outputs": [
        {
          "output_type": "stream",
          "name": "stdout",
          "text": [
            "Name: John Doe, Email: john.doe@example.com, Marks: 85\n",
            "Name: Jane Smith, Email: jane.smith@example.com, Marks: 90\n",
            "Name: Sam Wilson, Email: sam.wilson@example.com, Marks: 88\n",
            "Name: Alice Johnson, Email: alice.johnson@example.com, Marks: 92\n",
            "Name: Bob Brown, Email: bob.brown@example.com, Marks: 75\n",
            "Name: Chris Evans, Email: chris.evans@example.com, Marks: 89\n",
            "Name: Diana Prince, Email: diana.prince@example.com, Marks: 95\n",
            "Name: Peter Parker, Email: peter.parker@example.com, Marks: 87\n",
            "Name: Bruce Wayne, Email: bruce.wayne@example.com, Marks: 93\n",
            "Name: Clark Kent, Email: clark.kent@example.com, Marks: 91\n",
            "Name: Siva Jasthi, Email: siva.jasthi@gmail.com, Marks: 35\n"
          ]
        }
      ]
    },
    {
      "cell_type": "code",
      "source": [
        "#@title 2.Excel format\n",
        "from openpyxl import load_workbook\n",
        "\n",
        "# Helper function to read students from an Excel file\n",
        "def read_students_from_excel(filename='students.xlsx'):\n",
        "    # Load the workbook and select the active sheet\n",
        "    workbook = load_workbook(filename)\n",
        "    sheet = workbook.active\n",
        "\n",
        "    # Read the headers from the first row\n",
        "    headers = [cell.value for cell in sheet[1]]\n",
        "\n",
        "    # Read the data rows and convert to a list of dictionaries\n",
        "    students = []\n",
        "    for row in sheet.iter_rows(min_row=2, values_only=True):  # Skip the header row\n",
        "        student_data = dict(zip(headers, row))\n",
        "        students.append(student_data)\n",
        "\n",
        "    return students\n",
        "\n",
        "# Calling the function to read students from Excel\n",
        "students = read_students_from_excel()\n",
        "print(\"Students data loaded from Excel:\")\n",
        "for student in students:\n",
        "    print(student)\n"
      ],
      "metadata": {
        "id": "qlWFeitH0hmu"
      },
      "execution_count": null,
      "outputs": []
    },
    {
      "cell_type": "code",
      "source": [
        "#@title 3.JSON format\n",
        "# Helper function to read students from a JSON file\n",
        "def read_students_from_json(filename='students.json'):\n",
        "    with open(filename, 'r') as file:\n",
        "        students_data = json.load(file)  # Load JSON data from the file\n",
        "\n",
        "    # Convert JSON data to a list of Student objects\n",
        "    students = [Student(data['name'], data['email'], data['marks']) for data in students_data]\n",
        "\n",
        "    return students\n",
        "\n",
        "# Calling the function to read students from JSON\n",
        "students = read_students_from_json()\n",
        "print(\"Students data loaded from JSON:\")\n",
        "for student in students:\n",
        "    print(student)\n"
      ],
      "metadata": {
        "id": "hjofdO-Z0jVL"
      },
      "execution_count": null,
      "outputs": []
    },
    {
      "cell_type": "code",
      "source": [
        "#@title 4.XML format\n",
        "# Helper function to read students from an XML file\n",
        "def read_students_from_xml(filename='students.xml'):\n",
        "    tree = ET.parse(filename)  # Parse the XML file\n",
        "    root = tree.getroot()  # Get the root element\n",
        "\n",
        "    students = []\n",
        "    for student_elem in root.findall(\"student\"):  # Find all <student> elements\n",
        "        name = student_elem.find(\"name\").text\n",
        "        email = student_elem.find(\"email\").text\n",
        "        marks = int(student_elem.find(\"marks\").text)  # Convert marks to integer\n",
        "\n",
        "        # Create a Student object and append it to the list\n",
        "        students.append(Student(name, email, marks))\n",
        "\n",
        "    return students\n",
        "\n",
        "# Calling the function to read students from XML\n",
        "students = read_students_from_xml()\n",
        "print(\"Students data loaded from XML:\")\n",
        "for student in students:\n",
        "    print(student)\n"
      ],
      "metadata": {
        "id": "87lRhMkD0nau"
      },
      "execution_count": null,
      "outputs": []
    },
    {
      "cell_type": "code",
      "source": [
        "#@title 5.HTML format\n",
        "from bs4 import BeautifulSoup\n",
        "\n",
        "# Helper function to read students from an HTML file\n",
        "def read_students_from_html(filename='students.html'):\n",
        "    with open(filename, 'r') as file:\n",
        "        soup = BeautifulSoup(file, 'html.parser')  # Parse the HTML content\n",
        "\n",
        "    # Find the table rows containing student data\n",
        "    rows = soup.find_all('tr')[1:]  # Skip the header row\n",
        "    students = []\n",
        "\n",
        "    for row in rows:\n",
        "        cells = row.find_all('td')  # Get all <td> elements in the row\n",
        "        name = cells[0].text.strip()\n",
        "        email = cells[1].text.strip()\n",
        "        marks = int(cells[2].text.strip())  # Convert marks to integer\n",
        "\n",
        "        # Create a Student object and append it to the list\n",
        "        students.append(Student(name, email, marks))\n",
        "\n",
        "    return students\n",
        "\n",
        "# Calling the function to read students from HTML\n",
        "students = read_students_from_html()\n",
        "print(\"Students data loaded from HTML:\")\n",
        "for student in students:\n",
        "    print(student)\n"
      ],
      "metadata": {
        "id": "9ig2dKR20pWd"
      },
      "execution_count": null,
      "outputs": []
    },
    {
      "cell_type": "code",
      "source": [
        "#@title 6.Pickle format\n",
        "# Helper function to read students from a pickle file\n",
        "def read_students_from_pickle(filename='students.pkl'):\n",
        "    with open(filename, 'rb') as file:\n",
        "        students = pickle.load(file)  # Load the data using pickle\n",
        "    return students\n",
        "\n",
        "# Calling the function to read students from pickle\n",
        "students = read_students_from_pickle()\n",
        "print(\"Students data loaded from Pickle:\")\n",
        "for student in students:\n",
        "    print(student)\n"
      ],
      "metadata": {
        "id": "N5qEjaPM0rWX"
      },
      "execution_count": null,
      "outputs": []
    },
    {
      "cell_type": "code",
      "source": [
        "#@title 7.Text format\n",
        "# Helper function to read students from a text file\n",
        "def read_students_from_text(filename='students.txt'):\n",
        "    students = []\n",
        "    with open(filename, 'r') as file:\n",
        "        for line in file:\n",
        "            # Parse each line to extract student data\n",
        "            # Assuming the line format is: \"Name: <name>, Email: <email>, Marks: <marks>\"\n",
        "            parts = line.strip().split(\", \")\n",
        "            name = parts[0].split(\": \")[1]\n",
        "            email = parts[1].split(\": \")[1]\n",
        "            marks = int(parts[2].split(\": \")[1])  # Convert marks to integer\n",
        "\n",
        "            # Create a Student object and append it to the list\n",
        "            students.append(Student(name, email, marks))\n",
        "    return students\n",
        "\n",
        "# Calling the function to read students from a text file\n",
        "students = read_students_from_text()\n",
        "print(\"Students data loaded from text file:\")\n",
        "for student in students:\n",
        "    print(student)\n"
      ],
      "metadata": {
        "id": "vJvQOA0Y3_hZ"
      },
      "execution_count": null,
      "outputs": []
    },
    {
      "cell_type": "code",
      "source": [
        "#@title 8.PDF format\n",
        "import pdfplumber\n",
        "\n",
        "# Helper function to read students from a PDF file\n",
        "def read_students_from_pdf(filename='students.pdf'):\n",
        "    students = []\n",
        "    with pdfplumber.open(filename) as pdf:\n",
        "        # Loop through all pages of the PDF\n",
        "        for page in pdf.pages:\n",
        "            text = page.extract_text()\n",
        "\n",
        "            # Split text by lines and process each line\n",
        "            lines = text.split('\\n')\n",
        "            for line in lines:\n",
        "                # Check if the line has student data (simple check for \"Name: \")\n",
        "                if \"Name:\" in line:\n",
        "                    # Parse the student data (assuming format \"Name: <name>, Email: <email>, Marks: <marks>\")\n",
        "                    parts = line.split(\", \")\n",
        "                    name = parts[0].split(\": \")[1]\n",
        "                    email = parts[1].split(\": \")[1]\n",
        "                    marks = int(parts[2].split(\": \")[1])  # Convert marks to integer\n",
        "\n",
        "                    # Create a Student object and append to the list\n",
        "                    students.append(Student(name, email, marks))\n",
        "    return students\n",
        "\n",
        "# Calling the function to read students from a PDF file\n",
        "students = read_students_from_pdf()\n",
        "print(\"Students data loaded from PDF:\")\n",
        "for student in students:\n",
        "    print(student)\n"
      ],
      "metadata": {
        "id": "kSi1o8cW4BZx"
      },
      "execution_count": null,
      "outputs": []
    },
    {
      "cell_type": "code",
      "source": [
        "#@title 9.DOCX format\n",
        "from docx import Document\n",
        "\n",
        "# Helper function to read students from a DOCX file\n",
        "def read_students_from_docx(filename='students.docx'):\n",
        "    students = []\n",
        "    doc = Document(filename)\n",
        "\n",
        "    # Skip the heading and read paragraphs\n",
        "    for para in doc.paragraphs[1:]:  # Assume the first paragraph is the heading\n",
        "        line = para.text.strip()\n",
        "        if not line:  # Skip empty lines\n",
        "            continue\n",
        "\n",
        "        # Parse student data (format assumed: \"Name: <name>, Email: <email>, Marks: <marks>\")\n",
        "        parts = line.split(\", \")\n",
        "        name = parts[0].split(\": \")[1]\n",
        "        email = parts[1].split(\": \")[1]\n",
        "        marks = int(parts[2].split(\": \")[1])  # Convert marks to integer\n",
        "\n",
        "        # Create a Student object and append to the list\n",
        "        students.append(Student(name, email, marks))\n",
        "    return students\n",
        "\n",
        "# Calling the function to read students from a DOCX file\n",
        "students = read_students_from_docx()\n",
        "print(\"Students data loaded from DOCX:\")\n",
        "for student in students:\n",
        "    print(student)\n"
      ],
      "metadata": {
        "id": "jbd18qwc0uIf"
      },
      "execution_count": null,
      "outputs": []
    },
    {
      "cell_type": "code",
      "source": [
        "#@title 10.RTF format\n",
        "# Helper function to read students from an RTF file\n",
        "def read_students_from_rtf(filename='students.rtf'):\n",
        "    students = []\n",
        "    with open(filename, 'r') as file:\n",
        "        content = file.read()\n",
        "\n",
        "    # Extract text data from RTF content (ignoring RTF markup)\n",
        "    text_lines = content.split(\"\\\\par\\n\")  # RTF lines are separated by \"\\par\"\n",
        "\n",
        "    for line in text_lines:\n",
        "        # Clean RTF formatting\n",
        "        line = line.strip()\n",
        "        if not line or line.startswith(\"{\\\\\") or line == \"}\":  # Skip metadata\n",
        "            continue\n",
        "\n",
        "        # Parse student data (format assumed: \"Name: <name>, Email: <email>, Marks: <marks>\")\n",
        "        parts = line.split(\", \")\n",
        "        name = parts[0].split(\": \")[1]\n",
        "        email = parts[1].split(\": \")[1]\n",
        "        marks = int(parts[2].split(\": \")[1])  # Convert marks to integer\n",
        "\n",
        "        # Create a Student object and append to the list\n",
        "        students.append(Student(name, email, marks))\n",
        "    return students\n",
        "\n",
        "# Calling the function to read students from an RTF file\n",
        "students = read_students_from_rtf()\n",
        "print(\"Students data loaded from RTF:\")\n",
        "for student in students:\n",
        "    print(student)\n"
      ],
      "metadata": {
        "id": "1gfljUpT0wG5"
      },
      "execution_count": null,
      "outputs": []
    },
    {
      "cell_type": "code",
      "source": [
        "#@title 11.SQL format"
      ],
      "metadata": {
        "id": "3x7o1efa0yDp"
      },
      "execution_count": null,
      "outputs": []
    },
    {
      "cell_type": "code",
      "source": [
        "#@title 12.YAML format\n",
        "# Helper function to read students from a YAML file\n",
        "def read_students_from_yaml(filename='students.yaml'):\n",
        "    with open(filename, 'r') as file:\n",
        "        students_list = yaml.safe_load(file)  # Parse YAML content into Python objects\n",
        "\n",
        "    # Convert each dictionary back into a Student object\n",
        "    students = [Student(student['name'], student['email'], student['marks']) for student in students_list]\n",
        "    return students\n",
        "\n",
        "# Calling the function to read students from a YAML file\n",
        "students = read_students_from_yaml()\n",
        "print(\"Students data loaded from YAML:\")\n",
        "for student in students:\n",
        "    print(student)\n"
      ],
      "metadata": {
        "id": "gMXfKFcF3uop"
      },
      "execution_count": null,
      "outputs": []
    },
    {
      "cell_type": "markdown",
      "source": [
        "# Reading and writing data using Pandas\n",
        "# Read the data from file. Create a dataframe\n",
        "# Add a new student to that dataframe\n",
        "# Save the dataframe into excel (csv_to_excel.xlsx) (html_to_excel.xslx) and so on"
      ],
      "metadata": {
        "id": "ST8J6tagCD_x"
      }
    }
  ]
}
